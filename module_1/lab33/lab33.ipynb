{
 "cells": [
  {
   "cell_type": "code",
   "execution_count": 36,
   "metadata": {},
   "outputs": [],
   "source": [
    "import pandas as pd"
   ]
  },
  {
   "cell_type": "code",
   "execution_count": 37,
   "metadata": {},
   "outputs": [
    {
     "data": {
      "text/html": [
       "<div>\n",
       "<style scoped>\n",
       "    .dataframe tbody tr th:only-of-type {\n",
       "        vertical-align: middle;\n",
       "    }\n",
       "\n",
       "    .dataframe tbody tr th {\n",
       "        vertical-align: top;\n",
       "    }\n",
       "\n",
       "    .dataframe thead th {\n",
       "        text-align: right;\n",
       "    }\n",
       "</style>\n",
       "<table border=\"1\" class=\"dataframe\">\n",
       "  <thead>\n",
       "    <tr style=\"text-align: right;\">\n",
       "      <th></th>\n",
       "      <th>TransactionID</th>\n",
       "      <th>ClientID</th>\n",
       "      <th>BirthYear</th>\n",
       "      <th>Amount</th>\n",
       "      <th>Profession</th>\n",
       "      <th>Department</th>\n",
       "      <th>Risk</th>\n",
       "    </tr>\n",
       "  </thead>\n",
       "  <tbody>\n",
       "    <tr>\n",
       "      <th>0</th>\n",
       "      <td>4</td>\n",
       "      <td>34985</td>\n",
       "      <td>1923.000000</td>\n",
       "      <td>5670</td>\n",
       "      <td>manager</td>\n",
       "      <td>78</td>\n",
       "      <td>Low</td>\n",
       "    </tr>\n",
       "    <tr>\n",
       "      <th>1</th>\n",
       "      <td>16</td>\n",
       "      <td>34997</td>\n",
       "      <td>1923.000000</td>\n",
       "      <td>2399090</td>\n",
       "      <td>developer</td>\n",
       "      <td>78</td>\n",
       "      <td>High</td>\n",
       "    </tr>\n",
       "    <tr>\n",
       "      <th>2</th>\n",
       "      <td>25</td>\n",
       "      <td>35006</td>\n",
       "      <td>1923.000000</td>\n",
       "      <td>33050</td>\n",
       "      <td>HR</td>\n",
       "      <td>78</td>\n",
       "      <td>High</td>\n",
       "    </tr>\n",
       "    <tr>\n",
       "      <th>3</th>\n",
       "      <td>12</td>\n",
       "      <td>34993</td>\n",
       "      <td>1939.142857</td>\n",
       "      <td>23430</td>\n",
       "      <td>professor</td>\n",
       "      <td>78</td>\n",
       "      <td>Low</td>\n",
       "    </tr>\n",
       "    <tr>\n",
       "      <th>4</th>\n",
       "      <td>21</td>\n",
       "      <td>35002</td>\n",
       "      <td>1939.142857</td>\n",
       "      <td>16770</td>\n",
       "      <td>manager</td>\n",
       "      <td>78</td>\n",
       "      <td>Low</td>\n",
       "    </tr>\n",
       "  </tbody>\n",
       "</table>\n",
       "</div>"
      ],
      "text/plain": [
       "   TransactionID  ClientID    BirthYear   Amount Profession  Department  Risk\n",
       "0              4     34985  1923.000000     5670    manager          78   Low\n",
       "1             16     34997  1923.000000  2399090  developer          78  High\n",
       "2             25     35006  1923.000000    33050         HR          78  High\n",
       "3             12     34993  1939.142857    23430  professor          78   Low\n",
       "4             21     35002  1939.142857    16770    manager          78   Low"
      ]
     },
     "execution_count": 37,
     "metadata": {},
     "output_type": "execute_result"
    }
   ],
   "source": [
    "df = pd.read_excel(\"example_data_cleaning.xlsx\")\n",
    "df.head()"
   ]
  },
  {
   "cell_type": "code",
   "execution_count": null,
   "metadata": {},
   "outputs": [],
   "source": [
    "null_columns = df.isnull().sum()\n",
    "null_columns"
   ]
  },
  {
   "cell_type": "code",
   "execution_count": null,
   "metadata": {},
   "outputs": [],
   "source": [
    "df['BirthYear']= df['BirthYear'].fillna(0)\n",
    "df['BirthYear'] = df['BirthYear'].astype('int64')\n",
    "df"
   ]
  },
  {
   "cell_type": "code",
   "execution_count": null,
   "metadata": {},
   "outputs": [],
   "source": [
    "df['Profession']= df['Profession'].fillna(\"Not Specified\")\n",
    "df"
   ]
  },
  {
   "cell_type": "code",
   "execution_count": 45,
   "metadata": {},
   "outputs": [
    {
     "data": {
      "text/html": [
       "<div>\n",
       "<style scoped>\n",
       "    .dataframe tbody tr th:only-of-type {\n",
       "        vertical-align: middle;\n",
       "    }\n",
       "\n",
       "    .dataframe tbody tr th {\n",
       "        vertical-align: top;\n",
       "    }\n",
       "\n",
       "    .dataframe thead th {\n",
       "        text-align: right;\n",
       "    }\n",
       "</style>\n",
       "<table border=\"1\" class=\"dataframe\">\n",
       "  <thead>\n",
       "    <tr style=\"text-align: right;\">\n",
       "      <th></th>\n",
       "      <th>TransactionID</th>\n",
       "      <th>ClientID</th>\n",
       "      <th>BirthYear</th>\n",
       "      <th>Amount</th>\n",
       "      <th>Profession</th>\n",
       "      <th>Department</th>\n",
       "      <th>Risk</th>\n",
       "    </tr>\n",
       "  </thead>\n",
       "  <tbody>\n",
       "    <tr>\n",
       "      <th>0</th>\n",
       "      <td>4</td>\n",
       "      <td>34985</td>\n",
       "      <td>1923</td>\n",
       "      <td>5670</td>\n",
       "      <td>Manager</td>\n",
       "      <td>78</td>\n",
       "      <td>Low</td>\n",
       "    </tr>\n",
       "    <tr>\n",
       "      <th>1</th>\n",
       "      <td>16</td>\n",
       "      <td>34997</td>\n",
       "      <td>1923</td>\n",
       "      <td>2399090</td>\n",
       "      <td>Developer</td>\n",
       "      <td>78</td>\n",
       "      <td>High</td>\n",
       "    </tr>\n",
       "    <tr>\n",
       "      <th>2</th>\n",
       "      <td>25</td>\n",
       "      <td>35006</td>\n",
       "      <td>1923</td>\n",
       "      <td>33050</td>\n",
       "      <td>Hr</td>\n",
       "      <td>78</td>\n",
       "      <td>High</td>\n",
       "    </tr>\n",
       "    <tr>\n",
       "      <th>3</th>\n",
       "      <td>12</td>\n",
       "      <td>34993</td>\n",
       "      <td>1939</td>\n",
       "      <td>23430</td>\n",
       "      <td>Professor</td>\n",
       "      <td>78</td>\n",
       "      <td>Low</td>\n",
       "    </tr>\n",
       "    <tr>\n",
       "      <th>4</th>\n",
       "      <td>21</td>\n",
       "      <td>35002</td>\n",
       "      <td>1939</td>\n",
       "      <td>16770</td>\n",
       "      <td>Manager</td>\n",
       "      <td>78</td>\n",
       "      <td>Low</td>\n",
       "    </tr>\n",
       "  </tbody>\n",
       "</table>\n",
       "</div>"
      ],
      "text/plain": [
       "   TransactionID  ClientID  BirthYear   Amount Profession  Department  Risk\n",
       "0              4     34985       1923     5670    Manager          78   Low\n",
       "1             16     34997       1923  2399090  Developer          78  High\n",
       "2             25     35006       1923    33050         Hr          78  High\n",
       "3             12     34993       1939    23430  Professor          78   Low\n",
       "4             21     35002       1939    16770    Manager          78   Low"
      ]
     },
     "execution_count": 45,
     "metadata": {},
     "output_type": "execute_result"
    }
   ],
   "source": [
    "df['Profession'] = df['Profession'].str.replace('etudient', 'Student')\n",
    "\n",
    "# Capitalize the values in the profession column.\n",
    "df['Profession'] = df['Profession'].str.capitalize()\n",
    "df.head()"
   ]
  },
  {
   "cell_type": "code",
   "execution_count": 46,
   "metadata": {},
   "outputs": [
    {
     "data": {
      "text/plain": [
       "30"
      ]
     },
     "execution_count": 46,
     "metadata": {},
     "output_type": "execute_result"
    }
   ],
   "source": [
    "len(df)"
   ]
  },
  {
   "cell_type": "code",
   "execution_count": 48,
   "metadata": {},
   "outputs": [
    {
     "data": {
      "text/plain": [
       "30"
      ]
     },
     "execution_count": 48,
     "metadata": {},
     "output_type": "execute_result"
    }
   ],
   "source": [
    "# Removing duplicates\n",
    "df = df.drop_duplicates()\n",
    "len(df)\n",
    "# No duplicates found."
   ]
  },
  {
   "cell_type": "code",
   "execution_count": null,
   "metadata": {},
   "outputs": [],
   "source": []
  },
  {
   "cell_type": "code",
   "execution_count": null,
   "metadata": {},
   "outputs": [],
   "source": []
  }
 ],
 "metadata": {
  "kernelspec": {
   "display_name": "Python 3",
   "language": "python",
   "name": "python3"
  },
  "language_info": {
   "codemirror_mode": {
    "name": "ipython",
    "version": 3
   },
   "file_extension": ".py",
   "mimetype": "text/x-python",
   "name": "python",
   "nbconvert_exporter": "python",
   "pygments_lexer": "ipython3",
   "version": "3.10.9"
  },
  "orig_nbformat": 4,
  "vscode": {
   "interpreter": {
    "hash": "f88b970425a6d06aa264ed2c10c0c99747f8dde27d192521723c48330937163e"
   }
  }
 },
 "nbformat": 4,
 "nbformat_minor": 2
}
