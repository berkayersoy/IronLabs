{
 "cells": [
  {
   "cell_type": "markdown",
   "id": "8a4c6249",
   "metadata": {},
   "source": [
    "# Counting sheeps"
   ]
  },
  {
   "cell_type": "code",
   "execution_count": 29,
   "id": "806903d2",
   "metadata": {},
   "outputs": [],
   "source": [
    "def count_sheeps(sheep):\n",
    "  return sheep.count(True)"
   ]
  },
  {
   "cell_type": "markdown",
   "id": "b01fc07b",
   "metadata": {},
   "source": [
    "# Removing Elements"
   ]
  },
  {
   "cell_type": "code",
   "execution_count": 30,
   "id": "19740fb8",
   "metadata": {},
   "outputs": [],
   "source": [
    "def remove_every_other(my_list):\n",
    "    list2=[]\n",
    "    for i in range(0,len(my_list),2):\n",
    "        list2.append(my_list[i])\n",
    "    return list2"
   ]
  },
  {
   "cell_type": "markdown",
   "id": "e5ae99b7",
   "metadata": {},
   "source": [
    "# Convert number to reversed array of digits"
   ]
  },
  {
   "cell_type": "code",
   "execution_count": 114,
   "id": "12f44dae",
   "metadata": {},
   "outputs": [],
   "source": [
    "def digitize(n):\n",
    "    n=str(n)\n",
    "    list=[]\n",
    "    for i in range(-1,-len(n)-1,-1):\n",
    "        m=int(n[i])\n",
    "        list.append(m)\n",
    "    return list"
   ]
  },
  {
   "cell_type": "markdown",
   "id": "a04c16fb",
   "metadata": {},
   "source": [
    "# Digit*Digit"
   ]
  },
  {
   "cell_type": "code",
   "execution_count": 183,
   "id": "8879b97b",
   "metadata": {},
   "outputs": [],
   "source": [
    "def square_digits(num):\n",
    "    m = [int(x)**2 for x in str(num)]\n",
    "    list=[]\n",
    "\n",
    "    for i in m:\n",
    "        list.append(str(i))\n",
    "        \n",
    "    final_string=\"\"\n",
    "\n",
    "    for i in list:\n",
    "        final_string+=i\n",
    "\n",
    "    return int(final_string)"
   ]
  },
  {
   "cell_type": "markdown",
   "id": "366c1c04",
   "metadata": {},
   "source": [
    "# Method For Counting Total Occurence Of Specific Digits"
   ]
  },
  {
   "cell_type": "code",
   "execution_count": 261,
   "id": "12e7ee72",
   "metadata": {},
   "outputs": [],
   "source": [
    "#should be working\n",
    "class List(object):\n",
    "    def count_spec_digits(self, integers_list, digits_list):\n",
    "        \n",
    "        list=[]\n",
    "\n",
    "        for i in range(len(digits_list)):\n",
    "            tuple1=(digits_list[i],integers_list.count(digits_list[i]))\n",
    "            list.append(tuple1)\n",
    "        \n",
    "        return list"
   ]
  },
  {
   "cell_type": "code",
   "execution_count": null,
   "id": "703c91ff",
   "metadata": {},
   "outputs": [],
   "source": []
  },
  {
   "cell_type": "code",
   "execution_count": null,
   "id": "4dc3fc2d",
   "metadata": {},
   "outputs": [],
   "source": []
  },
  {
   "cell_type": "code",
   "execution_count": null,
   "id": "bf25c80c",
   "metadata": {},
   "outputs": [],
   "source": []
  },
  {
   "cell_type": "code",
   "execution_count": null,
   "id": "3fce923a",
   "metadata": {},
   "outputs": [],
   "source": []
  },
  {
   "cell_type": "code",
   "execution_count": null,
   "id": "c2b529f6",
   "metadata": {},
   "outputs": [],
   "source": []
  }
 ],
 "metadata": {
  "kernelspec": {
   "display_name": "Python 3 (ipykernel)",
   "language": "python",
   "name": "python3"
  },
  "language_info": {
   "codemirror_mode": {
    "name": "ipython",
    "version": 3
   },
   "file_extension": ".py",
   "mimetype": "text/x-python",
   "name": "python",
   "nbconvert_exporter": "python",
   "pygments_lexer": "ipython3",
   "version": "3.9.13"
  }
 },
 "nbformat": 4,
 "nbformat_minor": 5
}
