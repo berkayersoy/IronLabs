{
 "cells": [
  {
   "cell_type": "markdown",
   "metadata": {},
   "source": [
    "# Loops\n",
    "\n",
    "Complete the following set of exercises to solidify your knowledge for Loops."
   ]
  },
  {
   "cell_type": "markdown",
   "metadata": {},
   "source": [
    "#### 1. Print first 10 natural numbers using while loop"
   ]
  },
  {
   "cell_type": "code",
   "execution_count": 2,
   "metadata": {},
   "outputs": [
    {
     "name": "stdout",
     "output_type": "stream",
     "text": [
      "1\n",
      "2\n",
      "3\n",
      "4\n",
      "5\n",
      "6\n",
      "7\n",
      "8\n",
      "9\n",
      "10\n"
     ]
    }
   ],
   "source": [
    "i=1\n",
    "while i<11:\n",
    "    print(i)\n",
    "    i+=1"
   ]
  },
  {
   "cell_type": "markdown",
   "metadata": {},
   "source": [
    "#### 2. Display numbers from a list using loop\n",
    "Write a program to display only those numbers from a list that satisfy the following conditions\n",
    "\n",
    "The number must be divisible by five\n",
    "\n",
    "If the number is greater than 150, then skip it and move to the next number\n",
    "\n",
    "If the number is greater than 500, then stop the loop\n",
    "\n",
    "numbers = [12, 75, 150, 180, 145, 525, 50]"
   ]
  },
  {
   "cell_type": "code",
   "execution_count": 6,
   "metadata": {},
   "outputs": [
    {
     "name": "stdout",
     "output_type": "stream",
     "text": [
      "75\n",
      "150\n",
      "145\n"
     ]
    }
   ],
   "source": [
    "numbers = [12, 75, 150, 180, 145, 525, 50]\n",
    "\n",
    "for i in numbers:\n",
    "    if i>500:\n",
    "        break\n",
    "    elif i>150:\n",
    "        pass\n",
    "    elif i%5==0:\n",
    "        print(i)"
   ]
  },
  {
   "cell_type": "markdown",
   "metadata": {},
   "source": [
    "#### 3.Write a Python program to check the validity of a password (input from users).\n",
    "\n",
    "Validation :\n",
    "\n",
    "At least 1 letter between [a-z] and 1 letter between [A-Z].\n",
    "\n",
    "At least 1 number between [0-9].\n",
    "\n",
    "At least 1 character from [$#@].\n",
    "\n",
    "Minimum length 6 characters.\n",
    "\n",
    "Maximum length 16 characters."
   ]
  },
  {
   "cell_type": "code",
   "execution_count": 87,
   "metadata": {},
   "outputs": [
    {
     "name": "stdout",
     "output_type": "stream",
     "text": [
      "Invalid password\n"
     ]
    }
   ],
   "source": [
    "#SOLUTION WITH CONDITIONAL STATEMENTS\n",
    "import re\n",
    "\n",
    "password2 = input(\"Please enter a password: \")\n",
    "\n",
    "if len(password2)<6 or len(password2)>16:\n",
    "    print(\"Invalid password\")\n",
    "elif not re.search(\"[a-z]\", password2):\n",
    "    print(\"Invalid password\")\n",
    "elif not re.search(\"[A-Z]\", password2):\n",
    "    print(\"Invalid password\")\n",
    "elif not re.search(\"[0-9]\", password2):\n",
    "    print(\"Invalid password\")\n",
    "elif not re.search(\"[$#@]\", password2):\n",
    "    print(\"Invalid password\")\n",
    "else:\n",
    "    print(\"Valid password\")"
   ]
  },
  {
   "cell_type": "code",
   "execution_count": 86,
   "metadata": {},
   "outputs": [
    {
     "name": "stdout",
     "output_type": "stream",
     "text": [
      "Password approved!\n"
     ]
    }
   ],
   "source": [
    "#SOLUTION WITH WHILE LOOP\n",
    "password2=input(\"Please enter a password: \")\n",
    "\n",
    "while len(password2)<6 or len(password2)>16 or not re.search(\"[a-z]\", password2) or not re.search(\"[A-Z]\", password2) or not re.search(\"[0-9]\", password2) or not re.search(\"[$#@]\", password2):\n",
    "    password2=input(\"Password is not valid, please enter a valid password: \")\n",
    "\n",
    "print(\"Password approved!\")"
   ]
  },
  {
   "cell_type": "code",
   "execution_count": null,
   "metadata": {},
   "outputs": [],
   "source": []
  },
  {
   "cell_type": "markdown",
   "metadata": {},
   "source": [
    "#### 4. Break the loop when x is 6, and see what happens with the else block"
   ]
  },
  {
   "cell_type": "code",
   "execution_count": 9,
   "metadata": {},
   "outputs": [
    {
     "name": "stdout",
     "output_type": "stream",
     "text": [
      "1\n",
      "2\n",
      "3\n"
     ]
    }
   ],
   "source": [
    "i=0\n",
    "while i!=6:\n",
    "    i+=1\n",
    "    print(i)\n",
    "    if i==3:\n",
    "        break\n",
    "\n",
    "else:\n",
    "    print(\"This is an else statement.\")"
   ]
  },
  {
   "cell_type": "markdown",
   "metadata": {},
   "source": [
    "#### 5. Write a Python program to calculate the sum and average of n integer numbers (input from the user). Input 0 to finish.\n"
   ]
  },
  {
   "cell_type": "code",
   "execution_count": 33,
   "metadata": {},
   "outputs": [
    {
     "name": "stdout",
     "output_type": "stream",
     "text": [
      "10\n",
      "5.0\n"
     ]
    }
   ],
   "source": [
    "#SOLUTION 1 WITH FOR LOOPS, a bit manual\n",
    "count_of_inputs = int(input(\"How many numbers would you like to enter ? \"))\n",
    "numbers_list=[]\n",
    "sum=0\n",
    "\n",
    "for i in range(0,count_of_inputs):\n",
    "    entered_number=int(input(\"Please enter a number: \"))\n",
    "    numbers_list.append(entered_number)\n",
    "\n",
    "for i in numbers_list:\n",
    "    sum+=i\n",
    "\n",
    "average=sum/count_of_inputs\n",
    "\n",
    "print(sum)\n",
    "print(average)"
   ]
  },
  {
   "cell_type": "code",
   "execution_count": 44,
   "metadata": {},
   "outputs": [
    {
     "name": "stdout",
     "output_type": "stream",
     "text": [
      "6\n",
      "Average is:  2.0\n"
     ]
    }
   ],
   "source": [
    "#SOLUTION 2 WITH WHILE LOOP, as asked in the question\n",
    "sum=0\n",
    "count=0\n",
    "entered_number=34294\n",
    "\n",
    "while entered_number!=0:\n",
    "    entered_number=int(input(\"Please enter a number: (to stop just type 0)\"))\n",
    "\n",
    "    if entered_number==0:\n",
    "        break\n",
    "\n",
    "    sum+=entered_number\n",
    "    count+=1\n",
    "\n",
    "print(sum)\n",
    "print(\"Average is: \", sum/count)"
   ]
  },
  {
   "cell_type": "code",
   "execution_count": null,
   "metadata": {},
   "outputs": [],
   "source": []
  },
  {
   "cell_type": "code",
   "execution_count": null,
   "metadata": {},
   "outputs": [],
   "source": []
  }
 ],
 "metadata": {
  "kernelspec": {
   "display_name": "base",
   "language": "python",
   "name": "python3"
  },
  "language_info": {
   "codemirror_mode": {
    "name": "ipython",
    "version": 3
   },
   "file_extension": ".py",
   "mimetype": "text/x-python",
   "name": "python",
   "nbconvert_exporter": "python",
   "pygments_lexer": "ipython3",
   "version": "3.9.13"
  },
  "vscode": {
   "interpreter": {
    "hash": "939426be350ea136d7702cb38d9d1c611a2da7982b737f0b7151fc28273a1a91"
   }
  }
 },
 "nbformat": 4,
 "nbformat_minor": 2
}
