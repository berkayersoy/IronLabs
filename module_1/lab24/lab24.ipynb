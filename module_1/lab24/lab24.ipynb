{
 "cells": [
  {
   "cell_type": "markdown",
   "metadata": {},
   "source": [
    "# Intrduction to NumPy\n",
    "\n",
    "\n",
    "#### 1. Import NumPy under the name np."
   ]
  },
  {
   "cell_type": "code",
   "execution_count": 1,
   "metadata": {},
   "outputs": [],
   "source": [
    "# your code here\n",
    "import numpy as np"
   ]
  },
  {
   "cell_type": "markdown",
   "metadata": {},
   "source": [
    "#### 2. Print your NumPy version."
   ]
  },
  {
   "cell_type": "code",
   "execution_count": 2,
   "metadata": {},
   "outputs": [
    {
     "name": "stdout",
     "output_type": "stream",
     "text": [
      "1.21.5\n"
     ]
    }
   ],
   "source": [
    "# your code here\n",
    "print(np.__version__)"
   ]
  },
  {
   "cell_type": "markdown",
   "metadata": {},
   "source": [
    "#### 3. Generate a 2x3x5 3-dimensional array with random values. Assign the array to variable *a*.\n",
    "**Challenge**: there are at least three easy ways that use numpy to generate random arrays. How many ways can you find?"
   ]
  },
  {
   "cell_type": "code",
   "execution_count": 3,
   "metadata": {},
   "outputs": [],
   "source": [
    "# Method 1\n",
    "a = np.random.rand(2,3,5)"
   ]
  },
  {
   "cell_type": "code",
   "execution_count": 4,
   "metadata": {},
   "outputs": [],
   "source": [
    "# Method 2"
   ]
  },
  {
   "cell_type": "code",
   "execution_count": 5,
   "metadata": {},
   "outputs": [],
   "source": [
    "# Method 3"
   ]
  },
  {
   "cell_type": "markdown",
   "metadata": {},
   "source": [
    "#### 4. Print *a*.\n"
   ]
  },
  {
   "cell_type": "code",
   "execution_count": 6,
   "metadata": {},
   "outputs": [
    {
     "data": {
      "text/plain": [
       "array([[[0.26339905, 0.52883459, 0.62341171, 0.18390291, 0.69493685],\n",
       "        [0.69472224, 0.40178904, 0.45895385, 0.10957089, 0.0434745 ],\n",
       "        [0.28108683, 0.37451186, 0.78776248, 0.69943231, 0.71245116]],\n",
       "\n",
       "       [[0.97916184, 0.26256965, 0.72728692, 0.18183573, 0.6681298 ],\n",
       "        [0.72271359, 0.44793904, 0.67734686, 0.24377098, 0.66640662],\n",
       "        [0.91514568, 0.56154543, 0.27253395, 0.79200442, 0.68552543]]])"
      ]
     },
     "execution_count": 6,
     "metadata": {},
     "output_type": "execute_result"
    }
   ],
   "source": [
    "# your code here\n",
    "a"
   ]
  },
  {
   "cell_type": "markdown",
   "metadata": {},
   "source": [
    "#### 5. Create a 5x2x3 3-dimensional array with all values equaling 1. Assign the array to variable *b*."
   ]
  },
  {
   "cell_type": "code",
   "execution_count": 7,
   "metadata": {},
   "outputs": [],
   "source": [
    "# your code here\n",
    "b = np.ones((5,3,2))"
   ]
  },
  {
   "cell_type": "markdown",
   "metadata": {},
   "source": [
    "#### 6. Print *b*.\n"
   ]
  },
  {
   "cell_type": "code",
   "execution_count": 8,
   "metadata": {},
   "outputs": [
    {
     "data": {
      "text/plain": [
       "array([[[1., 1.],\n",
       "        [1., 1.],\n",
       "        [1., 1.]],\n",
       "\n",
       "       [[1., 1.],\n",
       "        [1., 1.],\n",
       "        [1., 1.]],\n",
       "\n",
       "       [[1., 1.],\n",
       "        [1., 1.],\n",
       "        [1., 1.]],\n",
       "\n",
       "       [[1., 1.],\n",
       "        [1., 1.],\n",
       "        [1., 1.]],\n",
       "\n",
       "       [[1., 1.],\n",
       "        [1., 1.],\n",
       "        [1., 1.]]])"
      ]
     },
     "execution_count": 8,
     "metadata": {},
     "output_type": "execute_result"
    }
   ],
   "source": [
    "# your code here\n",
    "b"
   ]
  },
  {
   "cell_type": "markdown",
   "metadata": {},
   "source": [
    "#### 7. Do *a* and *b* have the same size? How do you prove that in Python code?"
   ]
  },
  {
   "cell_type": "code",
   "execution_count": 9,
   "metadata": {},
   "outputs": [
    {
     "data": {
      "text/plain": [
       "False"
      ]
     },
     "execution_count": 9,
     "metadata": {},
     "output_type": "execute_result"
    }
   ],
   "source": [
    "# your code here\n",
    "a.shape==b.shape"
   ]
  },
  {
   "cell_type": "markdown",
   "metadata": {},
   "source": [
    "#### 8. Are you able to add *a* and *b*? Why or why not?\n"
   ]
  },
  {
   "cell_type": "code",
   "execution_count": 10,
   "metadata": {},
   "outputs": [
    {
     "ename": "ValueError",
     "evalue": "operands could not be broadcast together with shapes (2,3,5) (5,3,2) ",
     "output_type": "error",
     "traceback": [
      "\u001b[1;31m---------------------------------------------------------------------------\u001b[0m",
      "\u001b[1;31mValueError\u001b[0m                                Traceback (most recent call last)",
      "\u001b[1;32m~\\AppData\\Local\\Temp\\ipykernel_17620\\71375731.py\u001b[0m in \u001b[0;36m<module>\u001b[1;34m\u001b[0m\n\u001b[0;32m      1\u001b[0m \u001b[1;31m# your answer here\u001b[0m\u001b[1;33m\u001b[0m\u001b[1;33m\u001b[0m\u001b[0m\n\u001b[1;32m----> 2\u001b[1;33m \u001b[0ma\u001b[0m\u001b[1;33m+\u001b[0m\u001b[0mb\u001b[0m\u001b[1;33m\u001b[0m\u001b[1;33m\u001b[0m\u001b[0m\n\u001b[0m\u001b[0;32m      3\u001b[0m \u001b[1;31m# ValueError: operands could not be broadcast together with shapes (2,3,5) (5,2,3)\u001b[0m\u001b[1;33m\u001b[0m\u001b[1;33m\u001b[0m\u001b[0m\n\u001b[0;32m      4\u001b[0m \u001b[1;31m# The shapes are not matching so we are not able to add them to each other.\u001b[0m\u001b[1;33m\u001b[0m\u001b[1;33m\u001b[0m\u001b[0m\n",
      "\u001b[1;31mValueError\u001b[0m: operands could not be broadcast together with shapes (2,3,5) (5,3,2) "
     ]
    }
   ],
   "source": [
    "# your answer here\n",
    "a+b\n",
    "# ValueError: operands could not be broadcast together with shapes (2,3,5) (5,2,3) \n",
    "# The shapes are not matching so we are not able to add them to each other."
   ]
  },
  {
   "cell_type": "markdown",
   "metadata": {},
   "source": [
    "#### 9. Transpose *b* so that it has the same structure of *a* (i.e. become a 2x3x5 array). Assign the transposed array to variable *c*."
   ]
  },
  {
   "cell_type": "code",
   "execution_count": 11,
   "metadata": {},
   "outputs": [
    {
     "name": "stdout",
     "output_type": "stream",
     "text": [
      "[[[1. 1. 1. 1. 1.]\n",
      "  [1. 1. 1. 1. 1.]\n",
      "  [1. 1. 1. 1. 1.]]\n",
      "\n",
      " [[1. 1. 1. 1. 1.]\n",
      "  [1. 1. 1. 1. 1.]\n",
      "  [1. 1. 1. 1. 1.]]]\n"
     ]
    },
    {
     "data": {
      "text/plain": [
       "(2, 3, 5)"
      ]
     },
     "execution_count": 11,
     "metadata": {},
     "output_type": "execute_result"
    }
   ],
   "source": [
    "# your code here\n",
    "c=b.T\n",
    "print(c)\n",
    "c.shape"
   ]
  },
  {
   "cell_type": "markdown",
   "metadata": {},
   "source": [
    "#### 10. Try to add *a* and *c*. Now it should work. Assign the sum to variable *d*. But why does it work now?"
   ]
  },
  {
   "cell_type": "code",
   "execution_count": 12,
   "metadata": {},
   "outputs": [
    {
     "name": "stdout",
     "output_type": "stream",
     "text": [
      "[[[1.26339905 1.52883459 1.62341171 1.18390291 1.69493685]\n",
      "  [1.69472224 1.40178904 1.45895385 1.10957089 1.0434745 ]\n",
      "  [1.28108683 1.37451186 1.78776248 1.69943231 1.71245116]]\n",
      "\n",
      " [[1.97916184 1.26256965 1.72728692 1.18183573 1.6681298 ]\n",
      "  [1.72271359 1.44793904 1.67734686 1.24377098 1.66640662]\n",
      "  [1.91514568 1.56154543 1.27253395 1.79200442 1.68552543]]]\n"
     ]
    }
   ],
   "source": [
    "# your code/answer here\n",
    "d=a+c\n",
    "print(d)\n",
    "# Now it works because they have the same shape."
   ]
  },
  {
   "cell_type": "markdown",
   "metadata": {},
   "source": [
    "#### 11. Print *a* and *d*. Notice the difference and relation of the two array in terms of the values? Explain."
   ]
  },
  {
   "cell_type": "code",
   "execution_count": 13,
   "metadata": {},
   "outputs": [
    {
     "name": "stdout",
     "output_type": "stream",
     "text": [
      "[[[0.26339905 0.52883459 0.62341171 0.18390291 0.69493685]\n",
      "  [0.69472224 0.40178904 0.45895385 0.10957089 0.0434745 ]\n",
      "  [0.28108683 0.37451186 0.78776248 0.69943231 0.71245116]]\n",
      "\n",
      " [[0.97916184 0.26256965 0.72728692 0.18183573 0.6681298 ]\n",
      "  [0.72271359 0.44793904 0.67734686 0.24377098 0.66640662]\n",
      "  [0.91514568 0.56154543 0.27253395 0.79200442 0.68552543]]]\n",
      "-------------------------------------------------------------------------\n",
      "[[[1.26339905 1.52883459 1.62341171 1.18390291 1.69493685]\n",
      "  [1.69472224 1.40178904 1.45895385 1.10957089 1.0434745 ]\n",
      "  [1.28108683 1.37451186 1.78776248 1.69943231 1.71245116]]\n",
      "\n",
      " [[1.97916184 1.26256965 1.72728692 1.18183573 1.6681298 ]\n",
      "  [1.72271359 1.44793904 1.67734686 1.24377098 1.66640662]\n",
      "  [1.91514568 1.56154543 1.27253395 1.79200442 1.68552543]]]\n"
     ]
    }
   ],
   "source": [
    "# your code/answer here\n",
    "print(a)\n",
    "print(\"-------------------------------------------------------------------------\")\n",
    "print(d)"
   ]
  },
  {
   "cell_type": "markdown",
   "metadata": {},
   "source": [
    "#### 12. Multiply *a* and *c*. Assign the result to *e*."
   ]
  },
  {
   "cell_type": "code",
   "execution_count": 14,
   "metadata": {},
   "outputs": [],
   "source": [
    "# your code here\n",
    "e = a*c"
   ]
  },
  {
   "cell_type": "markdown",
   "metadata": {},
   "source": [
    "#### 13. Does *e* equal to *a*? Why or why not?\n"
   ]
  },
  {
   "cell_type": "code",
   "execution_count": 40,
   "metadata": {},
   "outputs": [
    {
     "name": "stdout",
     "output_type": "stream",
     "text": [
      "[[[0.26339905 0.52883459 0.62341171 0.18390291 0.69493685]\n",
      "  [0.69472224 0.40178904 0.45895385 0.10957089 0.0434745 ]\n",
      "  [0.28108683 0.37451186 0.78776248 0.69943231 0.71245116]]\n",
      "\n",
      " [[0.97916184 0.26256965 0.72728692 0.18183573 0.6681298 ]\n",
      "  [0.72271359 0.44793904 0.67734686 0.24377098 0.66640662]\n",
      "  [0.91514568 0.56154543 0.27253395 0.79200442 0.68552543]]]\n"
     ]
    },
    {
     "data": {
      "text/plain": [
       "array([[[0.26339905, 0.52883459, 0.62341171, 0.18390291, 0.69493685],\n",
       "        [0.69472224, 0.40178904, 0.45895385, 0.10957089, 0.0434745 ],\n",
       "        [0.28108683, 0.37451186, 0.78776248, 0.69943231, 0.71245116]],\n",
       "\n",
       "       [[0.97916184, 0.26256965, 0.72728692, 0.18183573, 0.6681298 ],\n",
       "        [0.72271359, 0.44793904, 0.67734686, 0.24377098, 0.66640662],\n",
       "        [0.91514568, 0.56154543, 0.27253395, 0.79200442, 0.68552543]]])"
      ]
     },
     "execution_count": 40,
     "metadata": {},
     "output_type": "execute_result"
    }
   ],
   "source": [
    "# your code/answer here\n",
    "print(a)\n",
    "e\n",
    "# Yes \"e\" equals to \"a\" because \"c\" just consists 1's."
   ]
  },
  {
   "cell_type": "markdown",
   "metadata": {},
   "source": [
    "#### 14. Identify the max, min, and mean values in *d*. Assign those values to variables *d_max*, *d_min* and *d_mean*."
   ]
  },
  {
   "cell_type": "code",
   "execution_count": 41,
   "metadata": {},
   "outputs": [],
   "source": [
    "# your code here\n",
    "d_max=np.ndarray.max(d)\n",
    "d_min=np.ndarray.min(d)\n",
    "d_mean=np.ndarray.mean(d)"
   ]
  },
  {
   "cell_type": "markdown",
   "metadata": {},
   "source": [
    "#### 15. Now we want to label the values in *d*. First create an empty array *f* with the same shape (i.e. 2x3x5) as *d* using `np.empty`.\n"
   ]
  },
  {
   "cell_type": "code",
   "execution_count": 42,
   "metadata": {},
   "outputs": [
    {
     "data": {
      "text/plain": [
       "array([[[0., 0., 0., 0., 0.],\n",
       "        [0., 0., 0., 0., 0.],\n",
       "        [0., 0., 0., 0., 0.]],\n",
       "\n",
       "       [[0., 0., 0., 0., 0.],\n",
       "        [0., 0., 0., 0., 0.],\n",
       "        [0., 0., 0., 0., 0.]]])"
      ]
     },
     "execution_count": 42,
     "metadata": {},
     "output_type": "execute_result"
    }
   ],
   "source": [
    "# your code here\n",
    "f=np.zeros((2,3,5))\n",
    "f"
   ]
  },
  {
   "cell_type": "markdown",
   "metadata": {},
   "source": [
    "#### 16. Populate the values in *f*. \n",
    "\n",
    "For each value in *d*, if it's larger than *d_min* but smaller than *d_mean*, assign 25 to the corresponding value in *f*. If a value in *d* is larger than *d_mean* but smaller than *d_max*, assign 75 to the corresponding value in *f*. If a value equals to *d_mean*, assign 50 to the corresponding value in *f*. Assign 0 to the corresponding value(s) in *f* for *d_min* in *d*. Assign 100 to the corresponding value(s) in *f* for *d_max* in *d*. In the end, f should have only the following values: 0, 25, 50, 75, and 100.\n",
    "\n",
    "**Note**: you don't have to use Numpy in this question."
   ]
  },
  {
   "cell_type": "code",
   "execution_count": 49,
   "metadata": {},
   "outputs": [
    {
     "name": "stdout",
     "output_type": "stream",
     "text": [
      "[[[1.26339905 1.52883459 1.62341171 1.18390291 1.69493685]\n",
      "  [1.69472224 1.40178904 1.45895385 1.10957089 1.0434745 ]\n",
      "  [1.28108683 1.37451186 1.78776248 1.69943231 1.71245116]]\n",
      "\n",
      " [[1.97916184 1.26256965 1.72728692 1.18183573 1.6681298 ]\n",
      "  [1.72271359 1.44793904 1.67734686 1.24377098 1.66640662]\n",
      "  [1.91514568 1.56154543 1.27253395 1.79200442 1.68552543]]]\n",
      "[[[ 25.  75.  75.  25.  75.]\n",
      "  [ 75.  25.  25.  25.   0.]\n",
      "  [ 25.  25.  75.  75.  75.]]\n",
      "\n",
      " [[100.  25.  75.  25.  75.]\n",
      "  [ 75.  25.  75.  25.  75.]\n",
      "  [ 75.  75.  25.  75.  75.]]]\n"
     ]
    }
   ],
   "source": [
    "# your code here\n",
    "print(d)\n",
    "\n",
    "f[(d > d_min) & (d < d_mean)] = 25\n",
    "f[(d > d_mean) & (d < d_max)] = 75\n",
    "f[d == d_mean] = 50\n",
    "f[d == d_min] = 0\n",
    "f[d == d_max] = 100\n",
    "\n",
    "print(f)"
   ]
  },
  {
   "cell_type": "markdown",
   "metadata": {},
   "source": [
    "#### 17. Print *d* and *f*. Do you have your expected *f*?\n",
    "For instance, if your *d* is:\n",
    "```python\n",
    "[[[1.85836099, 1.67064465, 1.62576044, 1.40243961, 1.88454931],\n",
    "[1.75354326, 1.69403643, 1.36729252, 1.61415071, 1.12104981],\n",
    "[1.72201435, 1.1862918 , 1.87078449, 1.7726778 , 1.88180042]],\n",
    "[[1.44747908, 1.31673383, 1.02000951, 1.52218947, 1.97066381],\n",
    "[1.79129243, 1.74983003, 1.96028037, 1.85166831, 1.65450881],\n",
    "[1.18068344, 1.9587381 , 1.00656599, 1.93402165, 1.73514584]]]\n",
    "```\n",
    "Your *f* should be:\n",
    "```python\n",
    "[[[ 75.,  75.,  75.,  25.,  75.],\n",
    "[ 75.,  75.,  25.,  25.,  25.],\n",
    "[ 75.,  25.,  75.,  75.,  75.]],\n",
    "[[ 25.,  25.,  25.,  25., 100.],\n",
    "[ 75.,  75.,  75.,  75.,  75.],\n",
    "[ 25.,  75.,   0.,  75.,  75.]]]\n",
    "```"
   ]
  },
  {
   "cell_type": "code",
   "execution_count": 50,
   "metadata": {},
   "outputs": [
    {
     "name": "stdout",
     "output_type": "stream",
     "text": [
      "[[[1.26339905 1.52883459 1.62341171 1.18390291 1.69493685]\n",
      "  [1.69472224 1.40178904 1.45895385 1.10957089 1.0434745 ]\n",
      "  [1.28108683 1.37451186 1.78776248 1.69943231 1.71245116]]\n",
      "\n",
      " [[1.97916184 1.26256965 1.72728692 1.18183573 1.6681298 ]\n",
      "  [1.72271359 1.44793904 1.67734686 1.24377098 1.66640662]\n",
      "  [1.91514568 1.56154543 1.27253395 1.79200442 1.68552543]]]\n",
      "[[[ 25.  75.  75.  25.  75.]\n",
      "  [ 75.  25.  25.  25.   0.]\n",
      "  [ 25.  25.  75.  75.  75.]]\n",
      "\n",
      " [[100.  25.  75.  25.  75.]\n",
      "  [ 75.  25.  75.  25.  75.]\n",
      "  [ 75.  75.  25.  75.  75.]]]\n"
     ]
    }
   ],
   "source": [
    "# your code here\n",
    "print(d)\n",
    "print(f)"
   ]
  },
  {
   "cell_type": "markdown",
   "metadata": {},
   "source": [
    "#### 18. Bonus question: instead of using numbers (i.e. 0, 25, 50, 75, and 100), use string values  (\"A\", \"B\", \"C\", \"D\", and \"E\") to label the array elements. For the example above, the expected result is:\n",
    "\n",
    "```python\n",
    "[[[ 'D',  'D',  'D',  'B',  'D'],\n",
    "[ 'D',  'D',  'B',  'B',  'B'],\n",
    "[ 'D',  'B',  'D',  'D',  'D']],\n",
    "[[ 'B',  'B',  'B',  'B',  'E'],\n",
    "[ 'D',  'D',  'D',  'D',  'D'],\n",
    "[ 'B',  'D',   'A',  'D', 'D']]]\n",
    "```\n",
    "**Note**: you don't have to use Numpy in this question."
   ]
  },
  {
   "cell_type": "code",
   "execution_count": null,
   "metadata": {},
   "outputs": [],
   "source": [
    "# your code here"
   ]
  }
 ],
 "metadata": {
  "kernelspec": {
   "display_name": "base",
   "language": "python",
   "name": "python3"
  },
  "language_info": {
   "codemirror_mode": {
    "name": "ipython",
    "version": 3
   },
   "file_extension": ".py",
   "mimetype": "text/x-python",
   "name": "python",
   "nbconvert_exporter": "python",
   "pygments_lexer": "ipython3",
   "version": "3.9.13"
  },
  "vscode": {
   "interpreter": {
    "hash": "939426be350ea136d7702cb38d9d1c611a2da7982b737f0b7151fc28273a1a91"
   }
  }
 },
 "nbformat": 4,
 "nbformat_minor": 2
}
